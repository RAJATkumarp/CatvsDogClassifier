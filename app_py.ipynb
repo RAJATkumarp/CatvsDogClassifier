{
  "cells": [
    {
      "cell_type": "markdown",
      "metadata": {
        "id": "view-in-github",
        "colab_type": "text"
      },
      "source": [
        "<a href=\"https://colab.research.google.com/github/RAJATkumarp/CatvsDogClassifier/blob/main/app_py.ipynb\" target=\"_parent\"><img src=\"https://colab.research.google.com/assets/colab-badge.svg\" alt=\"Open In Colab\"/></a>"
      ]
    },
    {
      "cell_type": "code",
      "execution_count": null,
      "metadata": {
        "colab": {
          "base_uri": "https://localhost:8080/"
        },
        "id": "b3refU046Wvo",
        "outputId": "f1e0887d-0bdd-43a1-c9d0-0866fb5307e3"
      },
      "outputs": [
        {
          "name": "stdout",
          "output_type": "stream",
          "text": [
            "Requirement already satisfied: flask in /usr/local/lib/python3.11/dist-packages (3.1.0)\n",
            "Collecting flask-ngrok\n",
            "  Downloading flask_ngrok-0.0.25-py3-none-any.whl.metadata (1.8 kB)\n",
            "Requirement already satisfied: Werkzeug>=3.1 in /usr/local/lib/python3.11/dist-packages (from flask) (3.1.3)\n",
            "Requirement already satisfied: Jinja2>=3.1.2 in /usr/local/lib/python3.11/dist-packages (from flask) (3.1.5)\n",
            "Requirement already satisfied: itsdangerous>=2.2 in /usr/local/lib/python3.11/dist-packages (from flask) (2.2.0)\n",
            "Requirement already satisfied: click>=8.1.3 in /usr/local/lib/python3.11/dist-packages (from flask) (8.1.8)\n",
            "Requirement already satisfied: blinker>=1.9 in /usr/local/lib/python3.11/dist-packages (from flask) (1.9.0)\n",
            "Requirement already satisfied: requests in /usr/local/lib/python3.11/dist-packages (from flask-ngrok) (2.32.3)\n",
            "Requirement already satisfied: MarkupSafe>=2.0 in /usr/local/lib/python3.11/dist-packages (from Jinja2>=3.1.2->flask) (3.0.2)\n",
            "Requirement already satisfied: charset-normalizer<4,>=2 in /usr/local/lib/python3.11/dist-packages (from requests->flask-ngrok) (3.4.1)\n",
            "Requirement already satisfied: idna<4,>=2.5 in /usr/local/lib/python3.11/dist-packages (from requests->flask-ngrok) (3.10)\n",
            "Requirement already satisfied: urllib3<3,>=1.21.1 in /usr/local/lib/python3.11/dist-packages (from requests->flask-ngrok) (2.3.0)\n",
            "Requirement already satisfied: certifi>=2017.4.17 in /usr/local/lib/python3.11/dist-packages (from requests->flask-ngrok) (2024.12.14)\n",
            "Downloading flask_ngrok-0.0.25-py3-none-any.whl (3.1 kB)\n",
            "Installing collected packages: flask-ngrok\n",
            "Successfully installed flask-ngrok-0.0.25\n"
          ]
        }
      ],
      "source": [
        "!pip install flask flask-ngrok\n"
      ]
    },
    {
      "cell_type": "code",
      "execution_count": null,
      "metadata": {
        "colab": {
          "background_save": true,
          "base_uri": "https://localhost:8080/"
        },
        "id": "CafCoOqJFX6c",
        "outputId": "58612d4c-cf19-44ed-dcdc-84cabf46f099"
      },
      "outputs": [
        {
          "name": "stdout",
          "output_type": "stream",
          "text": [
            " * Serving Flask app '__main__'\n",
            " * Debug mode: on\n"
          ]
        },
        {
          "name": "stderr",
          "output_type": "stream",
          "text": [
            "INFO:werkzeug:\u001b[31m\u001b[1mWARNING: This is a development server. Do not use it in a production deployment. Use a production WSGI server instead.\u001b[0m\n",
            " * Running on http://127.0.0.1:5000\n",
            "INFO:werkzeug:\u001b[33mPress CTRL+C to quit\u001b[0m\n",
            "INFO:werkzeug: * Restarting with stat\n"
          ]
        }
      ],
      "source": [
        "from flask import Flask, request, jsonify\n",
        "import joblib\n",
        "import numpy as np\n",
        "import cv2\n",
        "import os\n",
        "\n",
        "app = Flask(__name__)\n",
        "\n",
        "# Load the trained models\n",
        "svm_model = joblib.load('svm_model.pkl')\n",
        "rf_model = joblib.load('rf_model.pkl')\n",
        "lr_model = joblib.load('lr_model.pkl')  # Corrected from lt_model to lr_model\n",
        "kmeans_model = joblib.load('kmeans_model.pkl')\n",
        "\n",
        "# Load PCA and StandardScaler (if used during training)\n",
        "pca = joblib.load('pca.pkl')\n",
        "scaler = joblib.load('scaler.pkl')\n",
        "\n",
        "# Function to preprocess the uploaded image\n",
        "def preprocess_image(image_path, size=(64, 64)):\n",
        "    # Load image in grayscale\n",
        "    image = cv2.imread(image_path, cv2.IMREAD_GRAYSCALE)\n",
        "    if image is None:\n",
        "        raise ValueError(\"Unable to read image\")\n",
        "    # Resize image\n",
        "    image = cv2.resize(image, size)\n",
        "    # Flatten image to 1D array\n",
        "    image = image.flatten()\n",
        "    # Normalize pixel values\n",
        "    image = image / 255.0\n",
        "    return image\n",
        "\n",
        "@app.route('/predict', methods=['POST'])\n",
        "def predict():\n",
        "    if 'file' not in request.files:\n",
        "        return jsonify({'error': 'No file uploaded'})\n",
        "\n",
        "    file = request.files['file']\n",
        "    model_name = request.form['model']\n",
        "\n",
        "    # Save the uploaded file temporarily\n",
        "    file_path = 'temp_image.jpg'\n",
        "    file.save(file_path)\n",
        "\n",
        "    try:\n",
        "        # Preprocess the image\n",
        "        image = preprocess_image(file_path)\n",
        "        image = scaler.transform([image])  # Standardize the image\n",
        "        image = pca.transform(image)  # Apply PCA (if used during training)\n",
        "\n",
        "        # Select the model\n",
        "        if model_name == 'svm':\n",
        "            prediction = svm_model.predict(image)\n",
        "        elif model_name == 'random_forest':\n",
        "            prediction = rf_model.predict(image)\n",
        "        elif model_name == 'logistic_regression':\n",
        "            prediction = lr_model.predict(image)  # Corrected from lt_model to lr_model\n",
        "        elif model_name == 'kmeans':\n",
        "            prediction = kmeans_model.predict(image)\n",
        "        else:\n",
        "            return jsonify({'error': 'Invalid model selected'})  # Fixed JSON syntax\n",
        "\n",
        "        # Map prediction to label\n",
        "        label = 'cat' if prediction[0] == 0 else 'dog'\n",
        "        return jsonify({'prediction': label})  # Fixed JSON syntax\n",
        "\n",
        "    except Exception as e:\n",
        "        return jsonify({'error': str(e)})  # Fixed JSON syntax\n",
        "\n",
        "    finally:\n",
        "        # Delete the temporary file\n",
        "        if os.path.exists(file_path):\n",
        "            os.remove(file_path)\n",
        "\n",
        "if __name__ == '__main__':\n",
        "    app.run(debug=True)"
      ]
    },
    {
      "cell_type": "code",
      "execution_count": null,
      "metadata": {
        "id": "C7QqZpzrFYuX"
      },
      "outputs": [],
      "source": []
    }
  ],
  "metadata": {
    "accelerator": "GPU",
    "colab": {
      "gpuType": "T4",
      "provenance": [],
      "authorship_tag": "ABX9TyN2X5uoJZgB1JFN/8KRXHGL",
      "include_colab_link": true
    },
    "kernelspec": {
      "display_name": "Python 3",
      "name": "python3"
    },
    "language_info": {
      "name": "python"
    }
  },
  "nbformat": 4,
  "nbformat_minor": 0
}